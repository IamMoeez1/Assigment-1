{
  "nbformat": 4,
  "nbformat_minor": 0,
  "metadata": {
    "colab": {
      "provenance": [],
      "authorship_tag": "ABX9TyNqw2G2FRHJoDrXlLUOib8V",
      "include_colab_link": true
    },
    "kernelspec": {
      "name": "python3",
      "display_name": "Python 3"
    },
    "language_info": {
      "name": "python"
    }
  },
  "cells": [
    {
      "cell_type": "markdown",
      "metadata": {
        "id": "view-in-github",
        "colab_type": "text"
      },
      "source": [
        "<a href=\"https://colab.research.google.com/github/IamMoeez1/CV/blob/main/madlibs.ipynb\" target=\"_parent\"><img src=\"https://colab.research.google.com/assets/colab-badge.svg\" alt=\"Open In Colab\"/></a>"
      ]
    },
    {
      "cell_type": "code",
      "execution_count": 3,
      "metadata": {
        "colab": {
          "base_uri": "https://localhost:8080/"
        },
        "id": "wVuGR6fECA-W",
        "outputId": "071eace6-cd73-449d-c5a3-e4acb94e1104"
      },
      "outputs": [
        {
          "output_type": "stream",
          "name": "stdout",
          "text": [
            "Welcome to the Advanced Madlibs Game!\n",
            "Answer the following questions to create your own unique story.\n",
            "\n",
            "Enter a name: moeez ali\n",
            "Enter a place: mansehra\n",
            "Enter an adjective: beautiful\n",
            "Enter another adjective: funny\n",
            "Enter an animal: rabbit\n",
            "Enter a verb: run\n",
            "Enter another verb: dance\n",
            "Enter a hobby: swimming\n",
            "Enter a type of food: pizza\n",
            "Enter the name of a famous person: Elon Musk\n",
            "\n",
            "Here is your Madlib story:\n",
            "\n",
            "Once upon a time, there was a person named moeez ali who lived in a beautiful little village near mansehra. \n",
            "moeez ali loved to run with their pet rabbit, who was known for being funny and full of energy. \n",
            "Every day, they would dance together, making everyone in the village laugh.\n",
            "\n",
            "One fine day, while moeez ali was enjoying their favorite hobby, swimming, a mysterious traveler appeared. \n",
            "The traveler offered moeez ali a magical pizza and said, \n",
            "\"If you eat this, you will become as famous as Elon Musk!\"\n",
            "\n",
            "moeez ali decided to take the chance, and after eating the magical pizza, something amazing happened. \n",
            "From that day on, moeez ali became the hero of mansehra, inspiring everyone to chase their dreams and never stop run-ing.\n",
            "\n"
          ]
        }
      ],
      "source": [
        "# Madlibs Assignment: 1\n",
        "\n",
        "print(\"Welcome to the  Madlibs Game!\")\n",
        "print(\"Answer the following questions to create your own unique story.\\n\")\n",
        "\n",
        "# Taking multiple inputs\n",
        "name = input(\"Enter a name: \")\n",
        "place = input(\"Enter a place: \")\n",
        "adjective1 = input(\"Enter an adjective: \")\n",
        "adjective2 = input(\"Enter another adjective: \")\n",
        "animal = input(\"Enter an animal: \")\n",
        "verb1 = input(\"Enter a verb: \")\n",
        "verb2 = input(\"Enter another verb: \")\n",
        "hobby = input(\"Enter a hobby: \")\n",
        "food = input(\"Enter a type of food: \")\n",
        "famous_person = input(\"Enter the name of a famous person: \")\n",
        "\n",
        "# Creating the Madlib story\n",
        "madlibs = f\"\"\"\n",
        "Once upon a time, there was a person named {name} who lived in a {adjective1} little village near {place}.\n",
        "{name} loved to {verb1} with their pet {animal}, who was known for being {adjective2} and full of energy.\n",
        "Every day, they would {verb2} together, making everyone in the village laugh.\n",
        "\n",
        "One fine day, while {name} was enjoying their favorite hobby, {hobby}, a mysterious traveler appeared.\n",
        "The traveler offered {name} a magical {food} and said,\n",
        "\"If you eat this, you will become as famous as {famous_person}!\"\n",
        "\n",
        "{name} decided to take the chance, and after eating the magical {food}, something amazing happened.\n",
        "From that day on, {name} became the hero of {place}, inspiring everyone to chase their dreams and never stop {verb1}-ing.\n",
        "\"\"\"\n",
        "\n",
        "print(\"\\nHere is your Madlib story:\")\n",
        "print(madlibs)\n",
        "\n"
      ]
    },
    {
      "cell_type": "code",
      "source": [],
      "metadata": {
        "id": "RCmZRz09HvMC"
      },
      "execution_count": null,
      "outputs": []
    }
  ]
}